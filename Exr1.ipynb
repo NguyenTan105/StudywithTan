{
  "cells": [
    {
      "cell_type": "code",
      "execution_count": 1,
      "metadata": {},
      "outputs": [
        {
          "name": "stdout",
          "output_type": "stream",
          "text": [
            "2.0\n"
          ]
        }
      ],
      "source": [
        "blocks = 10000\n",
        "dayS = [1/2**n for n in range(0, blocks)]\n",
        "tongS = sum(dayS)\n",
        "print(tongS)"
      ]
    },
    {
      "cell_type": "code",
      "execution_count": 2,
      "metadata": {},
      "outputs": [
        {
          "name": "stdout",
          "output_type": "stream",
          "text": [
            "2.6706680000000027\n"
          ]
        }
      ],
      "source": [
        "n = 1000\n",
        "X = [2*k/n for k in range(0, n + 1)]\n",
        "S = 0\n",
        "for k in range(1, n+1):\n",
        "    S = S + X[k]**2 * (X[k] - X[k-1])\n",
        "print(S)"
      ]
    },
    {
      "cell_type": "code",
      "execution_count": 3,
      "metadata": {},
      "outputs": [
        {
          "name": "stdout",
          "output_type": "stream",
          "text": [
            "5/6\n"
          ]
        }
      ],
      "source": [
        "from sympy import *\n",
        "a= Rational(1,2) + Rational(1,3)\n",
        "print(a)"
      ]
    },
    {
      "cell_type": "code",
      "execution_count": 4,
      "metadata": {},
      "outputs": [
        {
          "name": "stdout",
          "output_type": "stream",
          "text": [
            "2*x (x - y)**2\n"
          ]
        }
      ],
      "source": [
        "from sympy import *\n",
        "x = Symbol('x')\n",
        "y = Symbol('y')\n",
        "x1 = x+y+x-y\n",
        "x2 = (x+y)**2\n",
        "print(x1, x2)"
      ]
    },
    {
      "cell_type": "code",
      "execution_count": 5,
      "metadata": {},
      "outputs": [
        {
          "name": "stdout",
          "output_type": "stream",
          "text": [
            "{x - 3, x}\n"
          ]
        }
      ],
      "source": [
        "from sympy.solvers.solvers import denoms\n",
        "n = (1/x)*1/(x-3)\n",
        "n2 = denoms(n)\n",
        "print(n2)"
      ]
    },
    {
      "cell_type": "code",
      "execution_count": 6,
      "metadata": {},
      "outputs": [
        {
          "name": "stdout",
          "output_type": "stream",
          "text": [
            "{0, 1}\n"
          ]
        }
      ],
      "source": [
        "from sympy import *\n",
        "n = (1+1/x)/(x-1)\n",
        "from sympy.solvers.solvers import denoms\n",
        "loai_tru = set()\n",
        "for d in denoms(n):\n",
        "    for s in solve(d):\n",
        "        loai_tru.add(s)\n",
        "print(loai_tru)"
      ]
    },
    {
      "cell_type": "code",
      "execution_count": 12,
      "metadata": {},
      "outputs": [
        {
          "name": "stdout",
          "output_type": "stream",
          "text": [
            "chac chan x+3 duong!\n"
          ]
        }
      ],
      "source": [
        "from sympy import Symbol\n",
        "x = Symbol('x',positive = True)\n",
        "if(x+3)>0:\n",
        "    print('chac chan x+3 duong!')\n",
        "else:\n",
        "    print('x+3 chua chac la so duong')"
      ]
    },
    {
      "cell_type": "code",
      "execution_count": 3,
      "metadata": {},
      "outputs": [
        {
          "data": {
            "text/plain": [
              "1.0"
            ]
          },
          "execution_count": 3,
          "metadata": {},
          "output_type": "execute_result"
        }
      ],
      "source": [
        "import math\n",
        "x = math.sin(math.pi/2)\n",
        "x"
      ]
    },
    {
      "cell_type": "code",
      "execution_count": 4,
      "metadata": {},
      "outputs": [
        {
          "data": {
            "text/latex": [
              "$\\displaystyle 1.0$"
            ],
            "text/plain": [
              "1.00000000000000"
            ]
          },
          "execution_count": 4,
          "metadata": {},
          "output_type": "execute_result"
        }
      ],
      "source": [
        "import sympy\n",
        "x = sympy.sin(math.pi/2)\n",
        "x"
      ]
    },
    {
      "cell_type": "code",
      "execution_count": 13,
      "metadata": {},
      "outputs": [
        {
          "data": {
            "text/latex": [
              "$\\displaystyle 2 \\sin{\\left(\\alpha \\right)}$"
            ],
            "text/plain": [
              "2*sin(alpha)"
            ]
          },
          "execution_count": 13,
          "metadata": {},
          "output_type": "execute_result"
        }
      ],
      "source": [
        "import sympy\n",
        "from sympy import Symbol\n",
        "goc_alpha = Symbol(\"alpha\")\n",
        "x = sympy.sin(goc_alpha) + sympy.sin(goc_alpha)\n",
        "x "
      ]
    },
    {
      "cell_type": "code",
      "execution_count": 14,
      "metadata": {},
      "outputs": [
        {
          "data": {
            "text/plain": [
              "True"
            ]
          },
          "execution_count": 14,
          "metadata": {},
          "output_type": "execute_result"
        }
      ],
      "source": [
        "import sympy\n",
        "from sympy import Symbol\n",
        "alpha = 30\n",
        "2*sympy.sin(alpha) == sympy.sin(alpha) + sympy.sin(alpha)"
      ]
    },
    {
      "cell_type": "code",
      "execution_count": 20,
      "metadata": {},
      "outputs": [
        {
          "data": {
            "text/plain": [
              "True"
            ]
          },
          "execution_count": 20,
          "metadata": {},
          "output_type": "execute_result"
        }
      ],
      "source": [
        "import sympy\n",
        "from sympy import Symbol\n",
        "alpha = 30\n",
        "(2*sympy.sin(alpha)*sympy.cos(alpha)).equals(sympy.sin(2*alpha))"
      ]
    },
    {
      "cell_type": "code",
      "execution_count": 21,
      "metadata": {},
      "outputs": [
        {
          "data": {
            "text/plain": [
              "[u*sin(alpha)/g]"
            ]
          },
          "execution_count": 21,
          "metadata": {},
          "output_type": "execute_result"
        }
      ],
      "source": [
        "from sympy import sin, solve, Symbol\n",
        "u = Symbol(\"u\")\n",
        "t = Symbol(\"t\")\n",
        "g = Symbol(\"g\")\n",
        "alpha = Symbol(\"alpha\")\n",
        "solve(u*sin(alpha)-g*t, t)"
      ]
    },
    {
      "cell_type": "code",
      "execution_count": 24,
      "metadata": {},
      "outputs": [
        {
          "data": {
            "text/plain": [
              "(Limit(1/x, x, oo, dir='-'), 0)"
            ]
          },
          "execution_count": 24,
          "metadata": {},
          "output_type": "execute_result"
        }
      ],
      "source": [
        "from sympy import Limit, Symbol, S\n",
        "x = Symbol(\"x\")\n",
        "y = Limit(1/x , x, S.Infinity)\n",
        "gioi_han = Limit(1/x, x, S.Infinity)\n",
        "z = gioi_han.doit()\n",
        "y, z"
      ]
    },
    {
      "cell_type": "code",
      "execution_count": 33,
      "metadata": {},
      "outputs": [
        {
          "data": {
            "text/latex": [
              "$\\displaystyle \\infty$"
            ],
            "text/plain": [
              "oo"
            ]
          },
          "execution_count": 33,
          "metadata": {},
          "output_type": "execute_result"
        }
      ],
      "source": [
        "from sympy import *\n",
        "x = Symbol(\"x\")\n",
        "z = Limit(1/x, x, 0, dir=\"-\").doit()\n",
        "y = Limit(1/x, x, 0, dir=\"+\").doit()\n",
        "z, y"
      ]
    },
    {
      "cell_type": "code",
      "execution_count": 17,
      "metadata": {},
      "outputs": [
        {
          "data": {
            "text/plain": [
              "[<matplotlib.lines.Line2D at 0x275556f5d80>]"
            ]
          },
          "execution_count": 17,
          "metadata": {},
          "output_type": "execute_result"
        },
        {
          "data": {
            "image/png": "[encoded data removed]",
            "text/plain": [
              "<Figure size 432x288 with 1 Axes>"
            ]
          },
          "metadata": {
            "needs_background": "light"
          },
          "output_type": "display_data"
        }
      ],
      "source": [
        "from pylab import plot\n",
        "x = [3,4,6]\n",
        "y = [2,1,5]\n",
        "plot(x, y, color = \"red\")"
      ]
    },
    {
      "cell_type": "code",
      "execution_count": 25,
      "metadata": {},
      "outputs": [
        {
          "name": "stdout",
          "output_type": "stream",
          "text": [
            "0 10\n",
            "1 11\n",
            "2 12\n"
          ]
        }
      ],
      "source": [
        "x = [10,11,12]\n",
        "for chiso, giaitri in enumerate(x):\n",
        "    print(chiso, giaitri)"
      ]
    }
  ],
  "metadata": {
    "colab": {
      "authorship_tag": "ABX9TyMbDdgSQJo94hSaCYI3WPte",
      "collapsed_sections": [],
      "include_colab_link": true,
      "name": "Exr1.ipynb",
      "provenance": []
    },
    "kernelspec": {
      "display_name": "Python 3",
      "name": "python3"
    },
    "language_info": {
      "codemirror_mode": {
        "name": "ipython",
        "version": 3
      },
      "file_extension": ".py",
      "mimetype": "text/x-python",
      "name": "python",
      "nbconvert_exporter": "python",
      "pygments_lexer": "ipython3",
      "version": "3.10.0"
    }
  },
  "nbformat": 4,
  "nbformat_minor": 0
}
