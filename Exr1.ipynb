{
  "cells": [
    {
      "cell_type": "code",
      "execution_count": 119,
      "metadata": {},
      "outputs": [
        {
          "name": "stdout",
          "output_type": "stream",
          "text": [
            "2.0\n"
          ]
        }
      ],
      "source": [
        "blocks = 10000\n",
        "dayS = [1/2**n for n in range(0, blocks)]\n",
        "tongS = sum(dayS)\n",
        "print(tongS)"
      ]
    },
    {
      "cell_type": "code",
      "execution_count": 120,
      "metadata": {},
      "outputs": [
        {
          "name": "stdout",
          "output_type": "stream",
          "text": [
            "2.6706680000000027\n"
          ]
        }
      ],
      "source": [
        "n = 1000\n",
        "X = [2*k/n for k in range(0, n + 1)]\n",
        "S = 0\n",
        "for k in range(1, n+1):\n",
        "    S = S + X[k]**2 * (X[k] - X[k-1])\n",
        "print(S)"
      ]
    },
    {
      "cell_type": "code",
      "execution_count": 121,
      "metadata": {},
      "outputs": [
        {
          "name": "stdout",
          "output_type": "stream",
          "text": [
            "5/6\n"
          ]
        }
      ],
      "source": [
        "from sympy import *\n",
        "a= Rational(1,2) + Rational(1,3)\n",
        "print(a)"
      ]
    },
    {
      "cell_type": "code",
      "execution_count": 122,
      "metadata": {},
      "outputs": [
        {
          "name": "stdout",
          "output_type": "stream",
          "text": [
            "2*x (x + y)**2\n"
          ]
        }
      ],
      "source": [
        "from sympy import *\n",
        "x = Symbol('x')\n",
        "y = Symbol('y')\n",
        "x1 = x+y+x-y\n",
        "x2 = (x+y)**2\n",
        "print(x1, x2)"
      ]
    },
    {
      "cell_type": "code",
      "execution_count": 123,
      "metadata": {},
      "outputs": [
        {
          "name": "stdout",
          "output_type": "stream",
          "text": [
            "{x - 3, x}\n"
          ]
        }
      ],
      "source": [
        "from sympy.solvers.solvers import denoms\n",
        "n = (1/x)*1/(x-3)\n",
        "n2 = denoms(n)\n",
        "print(n2)"
      ]
    },
    {
      "cell_type": "code",
      "execution_count": 124,
      "metadata": {},
      "outputs": [
        {
          "name": "stdout",
          "output_type": "stream",
          "text": [
            "{0, 1}\n"
          ]
        }
      ],
      "source": [
        "from sympy import *\n",
        "n = (1+1/x)/(x-1)\n",
        "from sympy.solvers.solvers import denoms\n",
        "loai_tru = set()\n",
        "for d in denoms(n):\n",
        "    for s in solve(d):\n",
        "        loai_tru.add(s)\n",
        "print(loai_tru)"
      ]
    },
    {
      "cell_type": "code",
      "execution_count": 125,
      "metadata": {},
      "outputs": [
        {
          "name": "stdout",
          "output_type": "stream",
          "text": [
            "chac chan x+3 duong!\n"
          ]
        }
      ],
      "source": [
        "from sympy import Symbol\n",
        "x = Symbol('x',positive = True)\n",
        "if(x+3)>0:\n",
        "    print('chac chan x+3 duong!')\n",
        "else:\n",
        "    print('x+3 chua chac la so duong')"
      ]
    },
    {
      "cell_type": "code",
      "execution_count": 126,
      "metadata": {},
      "outputs": [
        {
          "data": {
            "text/plain": [
              "1.0"
            ]
          },
          "execution_count": 126,
          "metadata": {},
          "output_type": "execute_result"
        }
      ],
      "source": [
        "import math\n",
        "x = math.sin(math.pi/2)\n",
        "x"
      ]
    },
    {
      "cell_type": "code",
      "execution_count": 127,
      "metadata": {},
      "outputs": [
        {
          "data": {
            "text/latex": [
              "$\\displaystyle 1.0$"
            ],
            "text/plain": [
              "1.00000000000000"
            ]
          },
          "execution_count": 127,
          "metadata": {},
          "output_type": "execute_result"
        }
      ],
      "source": [
        "import sympy\n",
        "x = sympy.sin(math.pi/2)\n",
        "x"
      ]
    },
    {
      "cell_type": "code",
      "execution_count": 128,
      "metadata": {},
      "outputs": [
        {
          "data": {
            "text/latex": [
              "$\\displaystyle 2 \\sin{\\left(\\alpha \\right)}$"
            ],
            "text/plain": [
              "2*sin(alpha)"
            ]
          },
          "execution_count": 128,
          "metadata": {},
          "output_type": "execute_result"
        }
      ],
      "source": [
        "import sympy\n",
        "from sympy import Symbol\n",
        "goc_alpha = Symbol(\"alpha\")\n",
        "x = sympy.sin(goc_alpha) + sympy.sin(goc_alpha)\n",
        "x "
      ]
    },
    {
      "cell_type": "code",
      "execution_count": 129,
      "metadata": {},
      "outputs": [
        {
          "data": {
            "text/plain": [
              "True"
            ]
          },
          "execution_count": 129,
          "metadata": {},
          "output_type": "execute_result"
        }
      ],
      "source": [
        "import sympy\n",
        "from sympy import Symbol\n",
        "alpha = 30\n",
        "2*sympy.sin(alpha) == sympy.sin(alpha) + sympy.sin(alpha)"
      ]
    },
    {
      "cell_type": "code",
      "execution_count": 130,
      "metadata": {},
      "outputs": [
        {
          "data": {
            "text/plain": [
              "True"
            ]
          },
          "execution_count": 130,
          "metadata": {},
          "output_type": "execute_result"
        }
      ],
      "source": [
        "import sympy\n",
        "from sympy import Symbol\n",
        "alpha = 30\n",
        "(2*sympy.sin(alpha)*sympy.cos(alpha)).equals(sympy.sin(2*alpha))"
      ]
    },
    {
      "cell_type": "code",
      "execution_count": 131,
      "metadata": {},
      "outputs": [
        {
          "data": {
            "text/plain": [
              "[u*sin(alpha)/g]"
            ]
          },
          "execution_count": 131,
          "metadata": {},
          "output_type": "execute_result"
        }
      ],
      "source": [
        "from sympy import sin, solve, Symbol\n",
        "u = Symbol(\"u\")\n",
        "t = Symbol(\"t\")\n",
        "g = Symbol(\"g\")\n",
        "alpha = Symbol(\"alpha\")\n",
        "solve(u*sin(alpha)-g*t, t)"
      ]
    },
    {
      "cell_type": "code",
      "execution_count": 132,
      "metadata": {},
      "outputs": [
        {
          "data": {
            "text/plain": [
              "(Limit(1/x, x, oo, dir='-'), 0)"
            ]
          },
          "execution_count": 132,
          "metadata": {},
          "output_type": "execute_result"
        }
      ],
      "source": [
        "from sympy import Limit, Symbol, S\n",
        "x = Symbol(\"x\")\n",
        "y = Limit(1/x , x, S.Infinity)\n",
        "gioi_han = Limit(1/x, x, S.Infinity)\n",
        "z = gioi_han.doit()\n",
        "y, z"
      ]
    },
    {
      "cell_type": "code",
      "execution_count": 133,
      "metadata": {},
      "outputs": [
        {
          "data": {
            "text/plain": [
              "(-oo, oo)"
            ]
          },
          "execution_count": 133,
          "metadata": {},
          "output_type": "execute_result"
        }
      ],
      "source": [
        "from sympy import *\n",
        "x = Symbol(\"x\")\n",
        "z = Limit(1/x, x, 0, dir=\"-\").doit()\n",
        "y = Limit(1/x, x, 0, dir=\"+\").doit()\n",
        "z, y"
      ]
    },
    {
      "cell_type": "code",
      "execution_count": 107,
      "metadata": {},
      "outputs": [
        {
          "data": {
            "text/latex": [
              "$\\displaystyle 1$"
            ],
            "text/plain": [
              "1"
            ]
          },
          "execution_count": 107,
          "metadata": {},
          "output_type": "execute_result"
        }
      ],
      "source": [
        "from sympy import Symbol, sin\n",
        "x = Symbol(\"x\")\n",
        "Limit(sin(x)/x, x, 0).doit()"
      ]
    },
    {
      "cell_type": "code",
      "execution_count": 108,
      "metadata": {},
      "outputs": [
        {
          "data": {
            "text/latex": [
              "$\\displaystyle 1$"
            ],
            "text/plain": [
              "1"
            ]
          },
          "execution_count": 108,
          "metadata": {},
          "output_type": "execute_result"
        }
      ],
      "source": [
        "from sympy import *\n",
        "x = Symbol(\"x\")\n",
        "Limit(x*sin(1/x), x, S.Infinity).doit()"
      ]
    },
    {
      "cell_type": "code",
      "execution_count": 109,
      "metadata": {},
      "outputs": [
        {
          "data": {
            "text/latex": [
              "$\\displaystyle \\lim_{x \\to \\infty}\\left(x \\sin{\\left(\\frac{1}{x} \\right)}\\right)$"
            ],
            "text/plain": [
              "Limit(x*sin(1/x), x, oo, dir='-')"
            ]
          },
          "execution_count": 109,
          "metadata": {},
          "output_type": "execute_result"
        }
      ],
      "source": [
        "from sympy import *\n",
        "Limit(x*sin(1/x), x, S.Infinity)"
      ]
    },
    {
      "cell_type": "code",
      "execution_count": 110,
      "metadata": {},
      "outputs": [
        {
          "data": {
            "text/latex": [
              "$\\displaystyle \\lim_{x \\to \\infty}\\left(x \\sin{\\left(\\frac{1}{x} \\right)}\\right)$"
            ],
            "text/plain": [
              "Limit(x*sin(1/x), x, oo, dir='-')"
            ]
          },
          "execution_count": 110,
          "metadata": {},
          "output_type": "execute_result"
        }
      ],
      "source": [
        "from sympy import *\n",
        "Limit(x*sin(1/x), x, sympy.oo)"
      ]
    },
    {
      "cell_type": "code",
      "execution_count": 111,
      "metadata": {},
      "outputs": [
        {
          "data": {
            "text/latex": [
              "$\\displaystyle p e^{i t}$"
            ],
            "text/plain": [
              "p*exp(i*t)"
            ]
          },
          "execution_count": 111,
          "metadata": {},
          "output_type": "execute_result"
        }
      ],
      "source": [
        "from sympy import *\n",
        "n = Symbol(\"n\")\n",
        "p = Symbol(\"p\", positive=\"True\")\n",
        "i = Symbol(\"i\", positive=\"True\")\n",
        "t = Symbol(\"t\", positive=\"True\")\n",
        "Limit(p*(1+i/n)**(n*t), n, sympy.oo).doit()"
      ]
    },
    {
      "cell_type": "code",
      "execution_count": 112,
      "metadata": {},
      "outputs": [
        {
          "data": {
            "text/latex": [
              "$\\displaystyle 10 t_{1} + 2$"
            ],
            "text/plain": [
              "10*t1 + 2"
            ]
          },
          "execution_count": 112,
          "metadata": {},
          "output_type": "execute_result"
        }
      ],
      "source": [
        "from sympy import *\n",
        "t = Symbol('t')\n",
        "St = 5*t**2 + 2*t + 8\n",
        "t1 = Symbol(\"t1\")\n",
        "delta_t = Symbol(\"delta_t\")\n",
        "St1 = St.subs({t: t1})\n",
        "St1_delta = St.subs({t: t1 +delta_t})\n",
        "Limit((St1_delta-St1)/delta_t, delta_t, 0).doit()"
      ]
    },
    {
      "cell_type": "code",
      "execution_count": 113,
      "metadata": {},
      "outputs": [
        {
          "data": {
            "text/plain": [
              "18"
            ]
          },
          "execution_count": 113,
          "metadata": {},
          "output_type": "execute_result"
        }
      ],
      "source": [
        "chuoi = \"a*b+c\"\n",
        "a = 2\n",
        "b = 5\n",
        "c = 8\n",
        "eval(chuoi)"
      ]
    },
    {
      "cell_type": "code",
      "execution_count": 114,
      "metadata": {},
      "outputs": [
        {
          "data": {
            "text/plain": [
              "(15, u + v, u**2 + 2*u*v + v**2, (u + v)**2)"
            ]
          },
          "execution_count": 114,
          "metadata": {},
          "output_type": "execute_result"
        }
      ],
      "source": [
        "import sympy\n",
        "x = Symbol(\"x\")\n",
        "y = Symbol(\"y\")\n",
        "bieu_thuc = x + y\n",
        "thay_the = bieu_thuc.subs({x:10, y:5})\n",
        "u = Symbol(\"u\")\n",
        "v = Symbol(\"v\")\n",
        "bieu_thuc_theo_uv = bieu_thuc.subs({x:u, y:v})\n",
        "thay_the_tinhtoan = bieu_thuc.subs({x:2*u*v, y:u**2+v**2})\n",
        "thay_the, bieu_thuc_theo_uv, thay_the_tinhtoan, thay_the_tinhtoan.factor()"
      ]
    },
    {
      "cell_type": "code",
      "execution_count": 115,
      "metadata": {},
      "outputs": [
        {
          "data": {
            "text/plain": [
              "(a**2*sin(u)**2 + a**2*cos(u)**2, a**2)"
            ]
          },
          "execution_count": 115,
          "metadata": {},
          "output_type": "execute_result"
        }
      ],
      "source": [
        "import sympy\n",
        "x = Symbol(\"x\")\n",
        "y = Symbol(\"y\")\n",
        "bieu_thuc = x + y\n",
        "bieu_thuc_2 = x**2 + y**2\n",
        "u = Symbol(\"u\")\n",
        "v = Symbol(\"v\")\n",
        "a = Symbol(\"a\")\n",
        "from sympy import *\n",
        "bieu_thuc_theo_uv = bieu_thuc_2.subs({x: a*sin(u), y:a*cos(u)})\n",
        "bieu_thuc_theo_uv, bieu_thuc_theo_uv.simplify()"
      ]
    },
    {
      "cell_type": "code",
      "execution_count": 116,
      "metadata": {},
      "outputs": [
        {
          "data": {
            "text/plain": [
              "20"
            ]
          },
          "execution_count": 116,
          "metadata": {},
          "output_type": "execute_result"
        }
      ],
      "source": [
        "danh_sach = [10, 15, 20]\n",
        "danh_sach[0]\n",
        "danh_sach[1]\n",
        "danh_sach[2]"
      ]
    },
    {
      "cell_type": "code",
      "execution_count": 137,
      "metadata": {},
      "outputs": [
        {
          "name": "stdout",
          "output_type": "stream",
          "text": [
            "0 10\n",
            "1 11\n",
            "2 12\n"
          ]
        }
      ],
      "source": [
        "x = [10,11,12]\n",
        "for chiso, giaitri in enumerate(x):\n",
        "    print(chiso, giaitri)"
      ]
    },
    {
      "cell_type": "code",
      "execution_count": 139,
      "metadata": {},
      "outputs": [
        {
          "data": {
            "text/plain": [
              "[<matplotlib.lines.Line2D at 0x27556d29840>]"
            ]
          },
          "execution_count": 139,
          "metadata": {},
          "output_type": "execute_result"
        },
        {
          "data": {
            "image/png": "[encoded data removed]",
            "text/plain": [
              "<Figure size 432x288 with 1 Axes>"
            ]
          },
          "metadata": {
            "needs_background": "light"
          },
          "output_type": "display_data"
        }
      ],
      "source": [
        "from pylab import plot\n",
        "x = [3,4,6]\n",
        "y = [2,1,5]\n",
        "plot(x, y, color = \"red\")"
      ]
    },
    {
      "cell_type": "code",
      "execution_count": 142,
      "metadata": {},
      "outputs": [
        {
          "data": {
            "text/plain": [
              "[<matplotlib.lines.Line2D at 0x27556e83280>]"
            ]
          },
          "execution_count": 142,
          "metadata": {},
          "output_type": "execute_result"
        },
        {
          "data": {
            "image/png": "[encoded data removed]",
            "text/plain": [
              "<Figure size 432x288 with 1 Axes>"
            ]
          },
          "metadata": {
            "needs_background": "light"
          },
          "output_type": "display_data"
        }
      ],
      "source": [
        "from pylab import plot\n",
        "x = [3,4,6]\n",
        "y = [2,1,5]\n",
        "plot(x, y, marker = \"o\", color = \"red\")"
      ]
    },
    {
      "cell_type": "code",
      "execution_count": 150,
      "metadata": {},
      "outputs": [
        {
          "data": {
            "text/plain": [
              "[<matplotlib.lines.Line2D at 0x2755bf52f80>]"
            ]
          },
          "execution_count": 150,
          "metadata": {},
          "output_type": "execute_result"
        },
        {
          "data": {
            "image/png": "[encoded data removed]",
            "text/plain": [
              "<Figure size 432x288 with 1 Axes>"
            ]
          },
          "metadata": {
            "needs_background": "light"
          },
          "output_type": "display_data"
        }
      ],
      "source": [
        "from pylab import plot\n",
        "hcm_rain = [13.8, 4.1, 10.5, 50.4, 218.4, 311.7, 239.7, 269.8, 327.1, 266.7, 116.5, 43.3]\n",
        "months = range(1,13)\n",
        "plot(months, hcm_rain, marker = \"o\")"
      ]
    },
    {
      "cell_type": "code",
      "execution_count": 152,
      "metadata": {},
      "outputs": [
        {
          "data": {
            "text/latex": [
              "$\\displaystyle 5 t^{2} + 2 t + 8$"
            ],
            "text/plain": [
              "5*t**2 + 2*t + 8"
            ]
          },
          "execution_count": 152,
          "metadata": {},
          "output_type": "execute_result"
        }
      ],
      "source": [
        "from sympy import *\n",
        "t = Symbol('t')\n",
        "st = 5*t**2 + 2*t +8\n",
        "st"
      ]
    },
    {
      "cell_type": "code",
      "execution_count": 153,
      "metadata": {},
      "outputs": [
        {
          "data": {
            "text/latex": [
              "$\\displaystyle \\frac{d}{d t} \\left(5 t^{2} + 2 t + 8\\right)$"
            ],
            "text/plain": [
              "Derivative(5*t**2 + 2*t + 8, t)"
            ]
          },
          "execution_count": 153,
          "metadata": {},
          "output_type": "execute_result"
        }
      ],
      "source": [
        "Derivative(st,t)"
      ]
    },
    {
      "cell_type": "code",
      "execution_count": 154,
      "metadata": {},
      "outputs": [
        {
          "data": {
            "text/latex": [
              "$\\displaystyle 10 t + 2$"
            ],
            "text/plain": [
              "10*t + 2"
            ]
          },
          "execution_count": 154,
          "metadata": {},
          "output_type": "execute_result"
        }
      ],
      "source": [
        "d = Derivative(st, t)\n",
        "d.doit()"
      ]
    },
    {
      "cell_type": "code",
      "execution_count": 155,
      "metadata": {},
      "outputs": [
        {
          "data": {
            "text/latex": [
              "$\\displaystyle 12$"
            ],
            "text/plain": [
              "12"
            ]
          },
          "execution_count": 155,
          "metadata": {},
          "output_type": "execute_result"
        }
      ],
      "source": [
        "d.doit().subs({t:1})"
      ]
    },
    {
      "cell_type": "code",
      "execution_count": 156,
      "metadata": {},
      "outputs": [
        {
          "data": {
            "text/latex": [
              "$\\displaystyle 10 t_{1} + 2$"
            ],
            "text/plain": [
              "10*t1 + 2"
            ]
          },
          "execution_count": 156,
          "metadata": {},
          "output_type": "execute_result"
        }
      ],
      "source": [
        "t1 = Symbol(\"t1\")\n",
        "d.doit().subs({t:t1})"
      ]
    },
    {
      "cell_type": "code",
      "execution_count": 157,
      "metadata": {},
      "outputs": [
        {
          "data": {
            "text/latex": [
              "$\\displaystyle 102$"
            ],
            "text/plain": [
              "102"
            ]
          },
          "execution_count": 157,
          "metadata": {},
          "output_type": "execute_result"
        }
      ],
      "source": [
        "t2 = 10\n",
        "d.doit().subs({t:t2})"
      ]
    },
    {
      "cell_type": "code",
      "execution_count": 158,
      "metadata": {},
      "outputs": [
        {
          "data": {
            "text/latex": [
              "$\\displaystyle \\left(2 x + 1\\right) \\left(x^{3} + x^{2} + x\\right) + \\left(x^{2} + x\\right) \\left(3 x^{2} + 2 x + 1\\right)$"
            ],
            "text/plain": [
              "(2*x + 1)*(x**3 + x**2 + x) + (x**2 + x)*(3*x**2 + 2*x + 1)"
            ]
          },
          "execution_count": 158,
          "metadata": {},
          "output_type": "execute_result"
        }
      ],
      "source": [
        "from sympy import *\n",
        "x = Symbol(\"x\")\n",
        "f = (x**3+x**2+x)*(x**2+x)\n",
        "Derivative(f,x).doit()"
      ]
    },
    {
      "cell_type": "code",
      "execution_count": 159,
      "metadata": {},
      "outputs": [
        {
          "data": {
            "text/latex": [
              "$\\displaystyle 2 \\cos{\\left(2 x \\right)}$"
            ],
            "text/plain": [
              "2*cos(2*x)"
            ]
          },
          "execution_count": 159,
          "metadata": {},
          "output_type": "execute_result"
        }
      ],
      "source": [
        "import sympy\n",
        "from sympy import *\n",
        "f = sympy.sin(2*x)\n",
        "Derivative(f,x).doit()"
      ]
    },
    {
      "cell_type": "code",
      "execution_count": 160,
      "metadata": {},
      "outputs": [
        {
          "data": {
            "text/latex": [
              "$\\displaystyle - \\sin^{2}{\\left(x \\right)} + \\cos^{2}{\\left(x \\right)}$"
            ],
            "text/plain": [
              "-sin(x)**2 + cos(x)**2"
            ]
          },
          "execution_count": 160,
          "metadata": {},
          "output_type": "execute_result"
        }
      ],
      "source": [
        "f = sympy.sin(x)*sympy.cos(x)\n",
        "Derivative(f,x).doit()"
      ]
    },
    {
      "cell_type": "code",
      "execution_count": 179,
      "metadata": {},
      "outputs": [
        {
          "data": {
            "text/latex": [
              "$\\displaystyle 5 x^{4} - 90 x^{2} + 50$"
            ],
            "text/plain": [
              "5*x**4 - 90*x**2 + 50"
            ]
          },
          "execution_count": 179,
          "metadata": {},
          "output_type": "execute_result"
        }
      ],
      "source": [
        "from sympy import *\n",
        "x = Symbol(\"x\")\n",
        "f = x**5-30*x**3+50*x\n",
        "d1 = Derivative(f,x).doit()\n",
        "d1"
      ]
    },
    {
      "cell_type": "code",
      "execution_count": 168,
      "metadata": {},
      "outputs": [
        {
          "data": {
            "text/latex": [
              "$\\displaystyle \\sqrt{9 - \\sqrt{71}}$"
            ],
            "text/plain": [
              "sqrt(9 - sqrt(71))"
            ]
          },
          "execution_count": 168,
          "metadata": {},
          "output_type": "execute_result"
        }
      ],
      "source": [
        "d1 = Derivative(f,x).doit()\n",
        "cuctri = solve(d1)\n",
        "cuctri[1]"
      ]
    },
    {
      "cell_type": "code",
      "execution_count": 172,
      "metadata": {},
      "outputs": [
        {
          "data": {
            "text/latex": [
              "$\\displaystyle - \\sqrt{9 - \\sqrt{71}}$"
            ],
            "text/plain": [
              "-sqrt(9 - sqrt(71))"
            ]
          },
          "execution_count": 172,
          "metadata": {},
          "output_type": "execute_result"
        }
      ],
      "source": [
        "A = cuctri[0]\n",
        "A"
      ]
    },
    {
      "cell_type": "code",
      "execution_count": 173,
      "metadata": {},
      "outputs": [
        {
          "data": {
            "text/latex": [
              "$\\displaystyle - \\sqrt{\\sqrt{71} + 9}$"
            ],
            "text/plain": [
              "-sqrt(sqrt(71) + 9)"
            ]
          },
          "execution_count": 173,
          "metadata": {},
          "output_type": "execute_result"
        }
      ],
      "source": [
        "A = cuctri[2]\n",
        "A"
      ]
    },
    {
      "cell_type": "code",
      "execution_count": 174,
      "metadata": {},
      "outputs": [
        {
          "data": {
            "text/latex": [
              "$\\displaystyle - \\sqrt{9 - \\sqrt{71}}$"
            ],
            "text/plain": [
              "-sqrt(9 - sqrt(71))"
            ]
          },
          "execution_count": 174,
          "metadata": {},
          "output_type": "execute_result"
        }
      ],
      "source": [
        "B = cuctri[0]\n",
        "B"
      ]
    },
    {
      "cell_type": "code",
      "execution_count": 175,
      "metadata": {},
      "outputs": [
        {
          "data": {
            "text/latex": [
              "$\\displaystyle \\sqrt{9 - \\sqrt{71}}$"
            ],
            "text/plain": [
              "sqrt(9 - sqrt(71))"
            ]
          },
          "execution_count": 175,
          "metadata": {},
          "output_type": "execute_result"
        }
      ],
      "source": [
        "C = cuctri[1]\n",
        "C"
      ]
    },
    {
      "cell_type": "code",
      "execution_count": 176,
      "metadata": {},
      "outputs": [
        {
          "data": {
            "text/latex": [
              "$\\displaystyle \\sqrt{\\sqrt{71} + 9}$"
            ],
            "text/plain": [
              "sqrt(sqrt(71) + 9)"
            ]
          },
          "execution_count": 176,
          "metadata": {},
          "output_type": "execute_result"
        }
      ],
      "source": [
        "D = cuctri[3]\n",
        "D"
      ]
    },
    {
      "cell_type": "code",
      "execution_count": 178,
      "metadata": {},
      "outputs": [
        {
          "data": {
            "text/latex": [
              "$\\displaystyle 60 \\left(x^{2} - 3\\right)$"
            ],
            "text/plain": [
              "60*(x**2 - 3)"
            ]
          },
          "execution_count": 178,
          "metadata": {},
          "output_type": "execute_result"
        }
      ],
      "source": [
        "d2 = Derivative(d1,x ,2).doit()\n",
        "d2"
      ]
    },
    {
      "cell_type": "code",
      "execution_count": 180,
      "metadata": {},
      "outputs": [
        {
          "data": {
            "text/latex": [
              "$\\displaystyle 60 \\left(x^{2} - 3\\right)$"
            ],
            "text/plain": [
              "60*(x**2 - 3)"
            ]
          },
          "execution_count": 180,
          "metadata": {},
          "output_type": "execute_result"
        }
      ],
      "source": [
        "d2.subs({x:B}).evalf()\n",
        "d2"
      ]
    },
    {
      "cell_type": "code",
      "execution_count": 181,
      "metadata": {},
      "outputs": [
        {
          "data": {
            "text/latex": [
              "$\\displaystyle 60 \\left(x^{2} - 3\\right)$"
            ],
            "text/plain": [
              "60*(x**2 - 3)"
            ]
          },
          "execution_count": 181,
          "metadata": {},
          "output_type": "execute_result"
        }
      ],
      "source": [
        "d2.subs({x:C}).evalf()\n",
        "d2"
      ]
    },
    {
      "cell_type": "code",
      "execution_count": 182,
      "metadata": {},
      "outputs": [
        {
          "data": {
            "text/latex": [
              "$\\displaystyle 60 \\left(x^{2} - 3\\right)$"
            ],
            "text/plain": [
              "60*(x**2 - 3)"
            ]
          },
          "execution_count": 182,
          "metadata": {},
          "output_type": "execute_result"
        }
      ],
      "source": [
        "d2.subs({x:A}).evalf()\n",
        "d2"
      ]
    },
    {
      "cell_type": "code",
      "execution_count": 183,
      "metadata": {},
      "outputs": [
        {
          "data": {
            "text/latex": [
              "$\\displaystyle 60 \\left(x^{2} - 3\\right)$"
            ],
            "text/plain": [
              "60*(x**2 - 3)"
            ]
          },
          "execution_count": 183,
          "metadata": {},
          "output_type": "execute_result"
        }
      ],
      "source": [
        "d2.subs({x:D}).evalf()\n",
        "d2"
      ]
    },
    {
      "cell_type": "code",
      "execution_count": 184,
      "metadata": {},
      "outputs": [
        {
          "data": {
            "text/latex": [
              "$\\displaystyle 705.959460380365$"
            ],
            "text/plain": [
              "705.959460380365"
            ]
          },
          "execution_count": 184,
          "metadata": {},
          "output_type": "execute_result"
        }
      ],
      "source": [
        "x_min = -5\n",
        "x_max = 5\n",
        "f.subs({x:A}).evalf()"
      ]
    },
    {
      "cell_type": "code",
      "execution_count": 186,
      "metadata": {},
      "outputs": [
        {
          "data": {
            "text/latex": [
              "$\\displaystyle 25.0846626340294$"
            ],
            "text/plain": [
              "25.0846626340294"
            ]
          },
          "execution_count": 186,
          "metadata": {},
          "output_type": "execute_result"
        }
      ],
      "source": [
        "f.subs({x:C}).evalf()"
      ]
    },
    {
      "cell_type": "code",
      "execution_count": 185,
      "metadata": {},
      "outputs": [
        {
          "data": {
            "text/latex": [
              "$\\displaystyle 375.0$"
            ],
            "text/plain": [
              "375.000000000000"
            ]
          },
          "execution_count": 185,
          "metadata": {},
          "output_type": "execute_result"
        }
      ],
      "source": [
        "f.subs({x:x_min}).evalf()"
      ]
    },
    {
      "cell_type": "code",
      "execution_count": 187,
      "metadata": {},
      "outputs": [
        {
          "data": {
            "text/latex": [
              "$\\displaystyle -375.0$"
            ],
            "text/plain": [
              "-375.000000000000"
            ]
          },
          "execution_count": 187,
          "metadata": {},
          "output_type": "execute_result"
        }
      ],
      "source": [
        "f.subs({x:x_max}).evalf()"
      ]
    },
    {
      "cell_type": "code",
      "execution_count": 188,
      "metadata": {},
      "outputs": [
        {
          "data": {
            "text/latex": [
              "$\\displaystyle -25.0846626340294$"
            ],
            "text/plain": [
              "-25.0846626340294"
            ]
          },
          "execution_count": 188,
          "metadata": {},
          "output_type": "execute_result"
        }
      ],
      "source": [
        "f.subs({x:B}).evalf()"
      ]
    },
    {
      "cell_type": "code",
      "execution_count": 189,
      "metadata": {},
      "outputs": [
        {
          "data": {
            "text/latex": [
              "$\\displaystyle -705.959460380365$"
            ],
            "text/plain": [
              "-705.959460380365"
            ]
          },
          "execution_count": 189,
          "metadata": {},
          "output_type": "execute_result"
        }
      ],
      "source": [
        "f.subs({x:D}).evalf()"
      ]
    },
    {
      "cell_type": "code",
      "execution_count": 193,
      "metadata": {},
      "outputs": [
        {
          "data": {
            "text/latex": [
              "$\\displaystyle \\frac{d}{d x} e^{x}$"
            ],
            "text/plain": [
              "Derivative(exp(x), x)"
            ]
          },
          "execution_count": 193,
          "metadata": {},
          "output_type": "execute_result"
        }
      ],
      "source": [
        "g = sympy.E**x\n",
        "g1 = Derivative(g,x)\n",
        "g1"
      ]
    },
    {
      "cell_type": "code",
      "execution_count": 194,
      "metadata": {},
      "outputs": [
        {
          "data": {
            "text/plain": [
              "[]"
            ]
          },
          "execution_count": 194,
          "metadata": {},
          "output_type": "execute_result"
        }
      ],
      "source": [
        "Derivative(exp(x),x)\n",
        "solve(g1)"
      ]
    },
    {
      "cell_type": "code",
      "execution_count": 195,
      "metadata": {},
      "outputs": [
        {
          "data": {
            "image/png": "[encoded data removed]",
            "text/plain": [
              "<Figure size 432x288 with 1 Axes>"
            ]
          },
          "metadata": {
            "needs_background": "light"
          },
          "output_type": "display_data"
        },
        {
          "data": {
            "text/plain": [
              "<sympy.plotting.plot.Plot at 0x2754465b1f0>"
            ]
          },
          "execution_count": 195,
          "metadata": {},
          "output_type": "execute_result"
        }
      ],
      "source": [
        "import sympy\n",
        "sympy.plot(f,(x, -5, 5))"
      ]
    }
  ],
  "metadata": {
    "colab": {
      "authorship_tag": "ABX9TyMbDdgSQJo94hSaCYI3WPte",
      "collapsed_sections": [],
      "include_colab_link": true,
      "name": "Exr1.ipynb",
      "provenance": []
    },
    "kernelspec": {
      "display_name": "Python 3",
      "name": "python3"
    },
    "language_info": {
      "codemirror_mode": {
        "name": "ipython",
        "version": 3
      },
      "file_extension": ".py",
      "mimetype": "text/x-python",
      "name": "python",
      "nbconvert_exporter": "python",
      "pygments_lexer": "ipython3",
      "version": "3.10.0"
    }
  },
  "nbformat": 4,
  "nbformat_minor": 0
}
