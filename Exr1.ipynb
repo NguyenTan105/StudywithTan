{
  "cells": [
    {
      "cell_type": "markdown",
      "metadata": {
        "colab_type": "text",
        "id": "view-in-github"
      },
      "source": [
        "<a href=\"https://colab.research.google.com/github/NguyenTan105/StudywithTan/blob/main/Exr1.ipynb\" target=\"_parent\"><img src=\"https://colab.research.google.com/assets/colab-badge.svg\" alt=\"Open In Colab\"/></a>"
      ]
    },
    {
      "cell_type": "code",
      "execution_count": 1,
      "metadata": {},
      "outputs": [
        {
          "name": "stdout",
          "output_type": "stream",
          "text": [
            "2.0\n"
          ]
        }
      ],
      "source": [
        "blocks = 10000\n",
        "dayS = [1/2**n for n in range(0, blocks)]\n",
        "tongS = sum(dayS)\n",
        "print(tongS)"
      ]
    },
    {
      "cell_type": "code",
      "execution_count": 2,
      "metadata": {},
      "outputs": [
        {
          "name": "stdout",
          "output_type": "stream",
          "text": [
            "2.6706680000000027\n"
          ]
        }
      ],
      "source": [
        "n = 1000\n",
        "X = [2*k/n for k in range(0, n + 1)]\n",
        "S = 0\n",
        "for k in range(1, n+1):\n",
        "    S = S + X[k]**2 * (X[k] - X[k-1])\n",
        "print(S)"
      ]
    },
    {
      "cell_type": "code",
      "execution_count": 3,
      "metadata": {},
      "outputs": [
        {
          "name": "stdout",
          "output_type": "stream",
          "text": [
            "5/6\n"
          ]
        }
      ],
      "source": [
        "from sympy import *\n",
        "a= Rational(1,2) + Rational(1,3)\n",
        "print(a)"
      ]
    },
    {
      "cell_type": "code",
      "execution_count": 4,
      "metadata": {},
      "outputs": [
        {
          "name": "stdout",
          "output_type": "stream",
          "text": [
            "2*x (x - y)**2\n"
          ]
        }
      ],
      "source": [
        "from sympy import *\n",
        "x = Symbol('x')\n",
        "y = Symbol('y')\n",
        "x1 = x+y+x-y\n",
        "x2 = (x+y)**2\n",
        "print(x1, x2)"
      ]
    },
    {
      "cell_type": "code",
      "execution_count": 5,
      "metadata": {},
      "outputs": [
        {
          "name": "stdout",
          "output_type": "stream",
          "text": [
            "{x - 3, x}\n"
          ]
        }
      ],
      "source": [
        "from sympy.solvers.solvers import denoms\n",
        "n = (1/x)*1/(x-3)\n",
        "n2 = denoms(n)\n",
        "print(n2)"
      ]
    },
    {
      "cell_type": "code",
      "execution_count": 6,
      "metadata": {},
      "outputs": [
        {
          "name": "stdout",
          "output_type": "stream",
          "text": [
            "{0, 1}\n"
          ]
        }
      ],
      "source": [
        "from sympy import *\n",
        "n = (1+1/x)/(x-1)\n",
        "from sympy.solvers.solvers import denoms\n",
        "loai_tru = set()\n",
        "for d in denoms(n):\n",
        "    for s in solve(d):\n",
        "        loai_tru.add(s)\n",
        "print(loai_tru)"
      ]
    },
    {
      "cell_type": "code",
      "execution_count": null,
      "metadata": {},
      "outputs": [],
      "source": [
        "from sympy import Symbol\n",
        "x = Symbol('x')\n",
        "if(x+3) > 0:\n",
        "    print(\"chac chan x+3 duong!\")\n",
        "else:\n",
        "    print('x+3 chua chac la so duong')"
      ]
    }
  ],
  "metadata": {
    "colab": {
      "authorship_tag": "ABX9TyMbDdgSQJo94hSaCYI3WPte",
      "collapsed_sections": [],
      "include_colab_link": true,
      "name": "Exr1.ipynb",
      "provenance": []
    },
    "kernelspec": {
      "display_name": "Python 3",
      "name": "python3"
    },
    "language_info": {
      "codemirror_mode": {
        "name": "ipython",
        "version": 3
      },
      "file_extension": ".py",
      "mimetype": "text/x-python",
      "name": "python",
      "nbconvert_exporter": "python",
      "pygments_lexer": "ipython3",
      "version": "3.10.0"
    }
  },
  "nbformat": 4,
  "nbformat_minor": 0
}
