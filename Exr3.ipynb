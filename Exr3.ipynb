{
 "cells": [
  {
   "cell_type": "code",
   "execution_count": 7,
   "metadata": {},
   "outputs": [
    {
     "data": {
      "text/plain": [
       "2"
      ]
     },
     "execution_count": 7,
     "metadata": {},
     "output_type": "execute_result"
    }
   ],
   "source": [
    "def luythua(x,n):\n",
    "    ketqua = 1\n",
    "    for i in range(n):\n",
    "        ketqua *= x\n",
    "    return ketqua\n",
    "luythua(2,1)"
   ]
  },
  {
   "cell_type": "code",
   "execution_count": 8,
   "metadata": {},
   "outputs": [
    {
     "ename": "SyntaxError",
     "evalue": "cannot assign to literal here. Maybe you meant '==' instead of '='? (Temp/ipykernel_2560/3265114303.py, line 1)",
     "output_type": "error",
     "traceback": [
      "\u001b[1;36m  Input \u001b[1;32mIn [8]\u001b[1;36m\u001b[0m\n\u001b[1;33m    while 1 = 2:\u001b[0m\n\u001b[1;37m          ^\u001b[0m\n\u001b[1;31mSyntaxError\u001b[0m\u001b[1;31m:\u001b[0m cannot assign to literal here. Maybe you meant '==' instead of '='?\n"
     ]
    }
   ],
   "source": [
    "while 1 = 2:\n",
    "    print(\"Hello world\")"
   ]
  },
  {
   "cell_type": "code",
   "execution_count": 9,
   "metadata": {},
   "outputs": [
    {
     "ename": "ZeroDivisionError",
     "evalue": "division by zero",
     "output_type": "error",
     "traceback": [
      "\u001b[1;31m---------------------------------------------------------------------------\u001b[0m",
      "\u001b[1;31mZeroDivisionError\u001b[0m                         Traceback (most recent call last)",
      "Input \u001b[1;32mIn [9]\u001b[0m, in \u001b[0;36m<module>\u001b[1;34m\u001b[0m\n\u001b[1;32m----> 1\u001b[0m x \u001b[38;5;241m=\u001b[39m \u001b[38;5;241m10\u001b[39m \u001b[38;5;241m*\u001b[39m (\u001b[38;5;241;43m1\u001b[39;49m\u001b[38;5;241;43m/\u001b[39;49m\u001b[38;5;241;43m0\u001b[39;49m)\n\u001b[0;32m      2\u001b[0m \u001b[38;5;28mprint\u001b[39m(x)\n",
      "\u001b[1;31mZeroDivisionError\u001b[0m: division by zero"
     ]
    }
   ],
   "source": [
    "x = 10 * (1/0)\n",
    "print(x)"
   ]
  },
  {
   "cell_type": "code",
   "execution_count": 12,
   "metadata": {},
   "outputs": [
    {
     "ename": "SyntaxError",
     "evalue": "expected an indented block after except statement on line 6 (Temp/ipykernel_2560/2612824522.py, line 7)",
     "output_type": "error",
     "traceback": [
      "\u001b[1;36m  Input \u001b[1;32mIn [12]\u001b[1;36m\u001b[0m\n\u001b[1;33m    \u001b[0m\n\u001b[1;37m    ^\u001b[0m\n\u001b[1;31mSyntaxError\u001b[0m\u001b[1;31m:\u001b[0m expected an indented block after except statement on line 6\n"
     ]
    }
   ],
   "source": [
    "x = int(input(\"Vui lòng nhập số:\"))\n",
    "# x = hello\n",
    "while True:\n",
    "    try: \n",
    "        x = int(input(\"Vui lòng nhập số: \"))\n",
    "        break\n",
    "    except: \n",
    "        #  sai cú pháp nên sẽ trở về while và nhập lại\n",
    "    "
   ]
  },
  {
   "cell_type": "code",
   "execution_count": 1,
   "metadata": {},
   "outputs": [
    {
     "name": "stdout",
     "output_type": "stream",
     "text": [
      "Số vừa nhập sai\n",
      "Đã hoàn thành chương trình\n",
      "Số vừa nhập sai\n",
      "Đã hoàn thành chương trình\n",
      "Số vừa nhập sai\n",
      "Đã hoàn thành chương trình\n",
      "Số vừa nhập sai\n",
      "Đã hoàn thành chương trình\n"
     ]
    }
   ],
   "source": [
    "while True:\n",
    "    try:\n",
    "        x = int(input(\"Vui lòng nhập số: \"))\n",
    "    except:\n",
    "        print(\"Số vừa nhập sai\")\n",
    "    else:\n",
    "        print(\"số vừa nhập là \" + str(x))\n",
    "        break\n",
    "    finally:\n",
    "        print(\"Đã hoàn thành chương trình\")"
   ]
  },
  {
   "cell_type": "code",
   "execution_count": 4,
   "metadata": {},
   "outputs": [
    {
     "data": {
      "text/plain": [
       "[0,\n",
       " 0.2,\n",
       " 0.4,\n",
       " 0.6000000000000001,\n",
       " 0.8,\n",
       " 1.0,\n",
       " 1.2,\n",
       " 1.4,\n",
       " 1.5999999999999999,\n",
       " 1.7999999999999998,\n",
       " 1.9999999999999998]"
      ]
     },
     "execution_count": 4,
     "metadata": {},
     "output_type": "execute_result"
    }
   ],
   "source": [
    "def frange(start, final, interval):\n",
    "    result = []\n",
    "    while start < final:\n",
    "        result.append(start)\n",
    "        start += interval\n",
    "    return result\n",
    "x = frange(0,2,0.2)\n",
    "x\n"
   ]
  },
  {
   "cell_type": "code",
   "execution_count": 3,
   "metadata": {},
   "outputs": [],
   "source": [
    "from matplotlib import pyplot \n",
    "import math\n",
    "def draw_graph(x,y):\n",
    "    pyplot.plot(x,y)\n",
    "    pyplot.xlabel(\"Truc X\")\n",
    "    pyplot.ylabel(\"TRuc Y\")\n",
    "    pyplot.title(\"Đồ thị bài toán ném bóng\")"
   ]
  },
  {
   "cell_type": "code",
   "execution_count": 5,
   "metadata": {},
   "outputs": [],
   "source": [
    "def frange(start, final, interval):\n",
    "    numbers = []\n",
    "    while start < final:\n",
    "        numbers.append(start)\n",
    "        start += interval\n",
    "    return numbers"
   ]
  },
  {
   "cell_type": "code",
   "execution_count": 6,
   "metadata": {},
   "outputs": [],
   "source": [
    "def draw_trajectory(u,theta):\n",
    "    # Gia tốc\n",
    "    g = 9.8\n",
    "    # Gốc bay\n",
    "    theta = math.radians(theta)\n",
    "    # Thời gian bay:\n",
    "    t_flight = 2*u*math.sin(theta)/g\n",
    "    # Tính khoảng cách thời gian\n",
    "    intervals = frange(0, t_flight, 0.001)\n",
    "    # Danh sách tọa độ x và y\n",
    "    x = []\n",
    "    y = []\n",
    "    for t in intervals:\n",
    "        x.append(u*math.cos(theta)*t)\n",
    "        y.append(u*math.sin(theta)*t-0.5*g*t**2)\n",
    "    draw_graph(x,y)"
   ]
  },
  {
   "cell_type": "code",
   "execution_count": 8,
   "metadata": {},
   "outputs": [
    {
     "name": "stdout",
     "output_type": "stream",
     "text": [
      "Nhập các gia trị sai!\n",
      "Hoàn thành chương trình\n"
     ]
    }
   ],
   "source": [
    "if __name__ == \"__main__\":\n",
    "    try:\n",
    "        u = float(input(\"Nhập vận tốc ban đầu (m/s): \"))\n",
    "        theta = float(input(\"Nhập góc bay (degrees): \"))\n",
    "    except ValueError:\n",
    "        print(\"Nhập các gia trị sai!\")\n",
    "    else:\n",
    "        draw_trajectory(u,theta)\n",
    "        pyplot.show()\n",
    "    finally:\n",
    "        print(\"Hoàn thành chương trình\")"
   ]
  }
 ],
 "metadata": {
  "interpreter": {
   "hash": "a0e4cfdf2f82d75aa54a771af161c87d5484ce4b44185059270e67165675ec2d"
  },
  "kernelspec": {
   "display_name": "Python 3.10.0 64-bit",
   "language": "python",
   "name": "python3"
  },
  "language_info": {
   "codemirror_mode": {
    "name": "ipython",
    "version": 3
   },
   "file_extension": ".py",
   "mimetype": "text/x-python",
   "name": "python",
   "nbconvert_exporter": "python",
   "pygments_lexer": "ipython3",
   "version": "3.10.0"
  },
  "orig_nbformat": 4
 },
 "nbformat": 4,
 "nbformat_minor": 2
}
